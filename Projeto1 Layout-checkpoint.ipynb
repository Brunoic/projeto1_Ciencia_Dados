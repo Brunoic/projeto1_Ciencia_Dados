{
 "cells": [
  {
   "cell_type": "markdown",
   "metadata": {},
   "source": [
    "___\n",
    "# Ciência dos Dados - PROJETO 1"
   ]
  },
  {
   "cell_type": "markdown",
   "metadata": {},
   "source": [
    "## COLOQUE AQUI SEU NOME\n",
    "___"
   ]
  },
  {
   "cell_type": "markdown",
   "metadata": {},
   "source": [
    "## TÍTULO DO SEU PROJETO"
   ]
  },
  {
   "cell_type": "markdown",
   "metadata": {},
   "source": [
    "___\n",
    "## Introdução\n",
    "\n",
    "Descreva aqui o que pretende analisar!\n",
    "\n",
    "Por meio desta pesquisa pretendo analisar a qualidade de vida em algumas unidades federais, baseado em uma renda per capta"
   ]
  },
  {
   "cell_type": "markdown",
   "metadata": {},
   "source": [
    "___\n",
    "## Análise e Resultados"
   ]
  },
  {
   "cell_type": "code",
   "execution_count": 12,
   "metadata": {
    "collapsed": true
   },
   "outputs": [],
   "source": [
    "%matplotlib inline\n",
    "import pandas as pd\n",
    "import matplotlib.pyplot as plt\n",
    "import numpy as np\n",
    "import os"
   ]
  },
  {
   "cell_type": "code",
   "execution_count": 13,
   "metadata": {},
   "outputs": [
    {
     "name": "stdout",
     "output_type": "stream",
     "text": [
      "Esperamos trabalhar no diretório\n",
      "C:\\Users\\Bruno\\Documents\\INSPER_2\\CIENCIA_DADOS\\projeto1\n"
     ]
    }
   ],
   "source": [
    "print('Esperamos trabalhar no diretório')\n",
    "print(os.getcwd())"
   ]
  },
  {
   "cell_type": "code",
   "execution_count": 14,
   "metadata": {
    "scrolled": true
   },
   "outputs": [],
   "source": [
    "#Se usar o arquivo descompactado\n",
    "dados2009 = pd.read_csv('DOM2009.csv',sep=',') \n",
    "\n",
    "#COLUNAS\n",
    "df09 = pd.DataFrame()\n",
    "df09[\"UF\"] = dados2009[\"UF\"]\n",
    "df09[\"Renda\"] = dados2009[\"V4622\"]\n",
    "df09[\"Seguranca_alimentar\"] = dados2009[\"V4623\"]\n",
    "df09[\"Abastecimento_de_agua\"] = dados2009[\"V4624\"]\n",
    "df09[\"Carro_ou_Moto\"] = dados2009[\"V2032\"]\n",
    "df09[\"fogao\"] = dados2009[\"V0221\"]\n",
    "df09 = df09.dropna(0,how=\"any\")\n",
    "\n",
    "#Se usar o arquivo compactado como está no dropbox púbico\n",
    "#pd.read_csv('DOM2015csv.zip', compression='zip', header=0, sep=',', quotechar='\"')"
   ]
  },
  {
   "cell_type": "code",
   "execution_count": 15,
   "metadata": {},
   "outputs": [
    {
     "name": "stderr",
     "output_type": "stream",
     "text": [
      "C:\\Users\\Bruno\\Anaconda3\\lib\\site-packages\\ipykernel\\__main__.py:8: SettingWithCopyWarning: \n",
      "A value is trying to be set on a copy of a slice from a DataFrame\n",
      "\n",
      "See the caveats in the documentation: http://pandas.pydata.org/pandas-docs/stable/indexing.html#indexing-view-versus-copy\n",
      "C:\\Users\\Bruno\\Anaconda3\\lib\\site-packages\\ipykernel\\__main__.py:9: SettingWithCopyWarning: \n",
      "A value is trying to be set on a copy of a slice from a DataFrame\n",
      "\n",
      "See the caveats in the documentation: http://pandas.pydata.org/pandas-docs/stable/indexing.html#indexing-view-versus-copy\n",
      "C:\\Users\\Bruno\\Anaconda3\\lib\\site-packages\\ipykernel\\__main__.py:10: SettingWithCopyWarning: \n",
      "A value is trying to be set on a copy of a slice from a DataFrame\n",
      "\n",
      "See the caveats in the documentation: http://pandas.pydata.org/pandas-docs/stable/indexing.html#indexing-view-versus-copy\n",
      "C:\\Users\\Bruno\\Anaconda3\\lib\\site-packages\\ipykernel\\__main__.py:11: SettingWithCopyWarning: \n",
      "A value is trying to be set on a copy of a slice from a DataFrame\n",
      "\n",
      "See the caveats in the documentation: http://pandas.pydata.org/pandas-docs/stable/indexing.html#indexing-view-versus-copy\n"
     ]
    }
   ],
   "source": [
    "#modificando variaveis \n",
    "df09.Carro_ou_Moto = df09.Carro_ou_Moto.astype(\"category\")\n",
    "df09.Carro_ou_Moto.cat.categories = ([\"Moto\",\"Carro\",\"Carro e Moto\",\"Nao\"])\n",
    "df09.fogao = df09.fogao.astype(\"category\")\n",
    "df09.fogao.cat.categories = ([\"Sim\",\"Nao\"])\n",
    "\n",
    "#redefinindo seguranca alimentar\n",
    "df09.Seguranca_alimentar[(df09.Seguranca_alimentar == 1)|(df09.Seguranca_alimentar == 6)] = [1]\n",
    "df09.Seguranca_alimentar[(df09.Seguranca_alimentar == 2)|(df09.Seguranca_alimentar == 7)] = [2]\n",
    "df09.Seguranca_alimentar[(df09.Seguranca_alimentar == 3)|(df09.Seguranca_alimentar == 8)] = [3]\n",
    "df09.Seguranca_alimentar[(df09.Seguranca_alimentar == 4)|(df09.Seguranca_alimentar == 9)] = [4]\n",
    "df09.Seguranca_alimentar = df09.Seguranca_alimentar.astype(\"category\")\n",
    "df09.Seguranca_alimentar.cat.categories = ([\"segurança\",'Insegurança leve','inseguranca moderada','inseguranca grave'])\n",
    "\n",
    "df09.Renda = df09.Renda.astype('category')\n",
    "df09.Renda.cat.categories = (['sem renda','Até ¼ ','Mais de ¼ até ½','Mais de ½ até 1','Mais de 1 até  2 ','Mais de  2 até  3','Mais de 3 até 5','Mais de 5','Sem declaração'])\n",
    "df09.Abastecimento_de_agua = df09.Abastecimento_de_agua.astype('category')\n",
    "df09.Abastecimento_de_agua.cat.categories = (['Rede geral com canalização interna','Poço ou nascente com canalização interna','Outra procedência com canalização interna','Rede geral sem canalização interna','Poço ou nascente sem canalização interna','Outra procedência sem canalização interna'])\n"
   ]
  },
  {
   "cell_type": "code",
   "execution_count": 16,
   "metadata": {},
   "outputs": [
    {
     "data": {
      "text/html": [
       "<div>\n",
       "<table border=\"1\" class=\"dataframe\">\n",
       "  <thead>\n",
       "    <tr style=\"text-align: right;\">\n",
       "      <th>Seguranca_alimentar</th>\n",
       "      <th>segurança</th>\n",
       "      <th>Insegurança leve</th>\n",
       "      <th>inseguranca moderada</th>\n",
       "      <th>inseguranca grave</th>\n",
       "    </tr>\n",
       "    <tr>\n",
       "      <th>Renda</th>\n",
       "      <th></th>\n",
       "      <th></th>\n",
       "      <th></th>\n",
       "      <th></th>\n",
       "    </tr>\n",
       "  </thead>\n",
       "  <tbody>\n",
       "    <tr>\n",
       "      <th>sem renda</th>\n",
       "      <td>17</td>\n",
       "      <td>4</td>\n",
       "      <td>1</td>\n",
       "      <td>3</td>\n",
       "    </tr>\n",
       "    <tr>\n",
       "      <th>Até ¼</th>\n",
       "      <td>60</td>\n",
       "      <td>55</td>\n",
       "      <td>24</td>\n",
       "      <td>23</td>\n",
       "    </tr>\n",
       "    <tr>\n",
       "      <th>Mais de ¼ até ½</th>\n",
       "      <td>171</td>\n",
       "      <td>98</td>\n",
       "      <td>28</td>\n",
       "      <td>20</td>\n",
       "    </tr>\n",
       "    <tr>\n",
       "      <th>Mais de ½ até 1</th>\n",
       "      <td>388</td>\n",
       "      <td>155</td>\n",
       "      <td>45</td>\n",
       "      <td>23</td>\n",
       "    </tr>\n",
       "    <tr>\n",
       "      <th>Mais de 1 até  2</th>\n",
       "      <td>379</td>\n",
       "      <td>80</td>\n",
       "      <td>19</td>\n",
       "      <td>9</td>\n",
       "    </tr>\n",
       "    <tr>\n",
       "      <th>Mais de  2 até  3</th>\n",
       "      <td>139</td>\n",
       "      <td>15</td>\n",
       "      <td>5</td>\n",
       "      <td>2</td>\n",
       "    </tr>\n",
       "    <tr>\n",
       "      <th>Mais de 3 até 5</th>\n",
       "      <td>94</td>\n",
       "      <td>9</td>\n",
       "      <td>1</td>\n",
       "      <td>0</td>\n",
       "    </tr>\n",
       "    <tr>\n",
       "      <th>Mais de 5</th>\n",
       "      <td>57</td>\n",
       "      <td>3</td>\n",
       "      <td>0</td>\n",
       "      <td>0</td>\n",
       "    </tr>\n",
       "    <tr>\n",
       "      <th>Sem declaração</th>\n",
       "      <td>24</td>\n",
       "      <td>5</td>\n",
       "      <td>0</td>\n",
       "      <td>0</td>\n",
       "    </tr>\n",
       "  </tbody>\n",
       "</table>\n",
       "</div>"
      ],
      "text/plain": [
       "Seguranca_alimentar  segurança  Insegurança leve  inseguranca moderada  \\\n",
       "Renda                                                                    \n",
       "sem renda                   17                 4                     1   \n",
       "Até ¼                       60                55                    24   \n",
       "Mais de ¼ até ½            171                98                    28   \n",
       "Mais de ½ até 1            388               155                    45   \n",
       "Mais de 1 até  2           379                80                    19   \n",
       "Mais de  2 até  3          139                15                     5   \n",
       "Mais de 3 até 5             94                 9                     1   \n",
       "Mais de 5                   57                 3                     0   \n",
       "Sem declaração              24                 5                     0   \n",
       "\n",
       "Seguranca_alimentar  inseguranca grave  \n",
       "Renda                                   \n",
       "sem renda                            3  \n",
       "Até ¼                               23  \n",
       "Mais de ¼ até ½                     20  \n",
       "Mais de ½ até 1                     23  \n",
       "Mais de 1 até  2                     9  \n",
       "Mais de  2 até  3                    2  \n",
       "Mais de 3 até 5                      0  \n",
       "Mais de 5                            0  \n",
       "Sem declaração                       0  "
      ]
     },
     "execution_count": 16,
     "metadata": {},
     "output_type": "execute_result"
    }
   ],
   "source": [
    "Cross1 = pd.crosstab(df09[df09.UF == 11].Renda,df09[df09.UF == 11].Seguranca_alimentar)\n",
    "Cross1"
   ]
  },
  {
   "cell_type": "code",
   "execution_count": 20,
   "metadata": {},
   "outputs": [
    {
     "data": {
      "text/plain": [
       "<matplotlib.axes._subplots.AxesSubplot at 0x246857d2080>"
      ]
     },
     "execution_count": 20,
     "metadata": {},
     "output_type": "execute_result"
    },
    {
     "data": {
      "image/png": "[encoded data removed]",
      "text/plain": [
       "<matplotlib.figure.Figure at 0x24685762c50>"
      ]
     },
     "metadata": {},
     "output_type": "display_data"
    }
   ],
   "source": [
    "Cross2 = pd.crosstab(df09[df09.UF == 29].Renda,df09[df09.UF == 29].Seguranca_alimentar)\n",
    "Cross2.plot(kind = \"bar\", title = \"Segurança alimentar por renda\" ,figsize = (9,9))"
   ]
  },
  {
   "cell_type": "markdown",
   "metadata": {},
   "source": [
    "___\n",
    "## Conclusão "
   ]
  },
  {
   "cell_type": "markdown",
   "metadata": {
    "collapsed": true
   },
   "source": [
    "Descreva aqui suas conclusões!"
   ]
  },
  {
   "cell_type": "code",
   "execution_count": null,
   "metadata": {},
   "outputs": [],
   "source": []
  },
  {
   "cell_type": "code",
   "execution_count": null,
   "metadata": {
    "collapsed": true
   },
   "outputs": [],
   "source": []
  },
  {
   "cell_type": "code",
   "execution_count": null,
   "metadata": {
    "collapsed": true
   },
   "outputs": [],
   "source": []
  },
  {
   "cell_type": "code",
   "execution_count": null,
   "metadata": {
    "collapsed": true
   },
   "outputs": [],
   "source": []
  },
  {
   "cell_type": "code",
   "execution_count": null,
   "metadata": {
    "collapsed": true
   },
   "outputs": [],
   "source": []
  },
  {
   "cell_type": "code",
   "execution_count": null,
   "metadata": {
    "collapsed": true
   },
   "outputs": [],
   "source": []
  },
  {
   "cell_type": "code",
   "execution_count": null,
   "metadata": {
    "collapsed": true
   },
   "outputs": [],
   "source": []
  }
 ],
 "metadata": {
  "anaconda-cloud": {},
  "kernelspec": {
   "display_name": "Python 3",
   "language": "python",
   "name": "python3"
  },
  "language_info": {
   "codemirror_mode": {
    "name": "ipython",
    "version": 3
   },
   "file_extension": ".py",
   "mimetype": "text/x-python",
   "name": "python",
   "nbconvert_exporter": "python",
   "pygments_lexer": "ipython3",
   "version": "3.6.0"
  }
 },
 "nbformat": 4,
 "nbformat_minor": 1
}
